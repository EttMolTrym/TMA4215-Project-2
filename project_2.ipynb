{
 "cells": [
  {
   "cell_type": "markdown",
   "metadata": {},
   "source": [
    "# Project 2 - Image generation and processing\n",
    "\n",
    "\n",
    "\n",
    "Trym Lervik & Tor Haugen\n",
    "\n",
    "## Introduction\n",
    "blablabla\n",
    "\n",
    "\n"
   ]
  },
  {
   "cell_type": "code",
   "execution_count": 4,
   "metadata": {},
   "outputs": [],
   "source": [
    "import numpy as np\n",
    "import matplotlib.pyplot as plt"
   ]
  },
  {
   "cell_type": "markdown",
   "metadata": {},
   "source": [
    "## Task 1 - Generating artificial Images \n",
    "\n",
    "### a) "
   ]
  },
  {
   "cell_type": "code",
   "execution_count": 3,
   "metadata": {},
   "outputs": [],
   "source": [
    "def my_newton(f, Df, x0 : int, **kwargs):\n",
    "    \"\"\"\n",
    "    my_newton computes the zero of a function f using Newton's method.\n",
    "    Inputs:\n",
    "    f: function\n",
    "    Df: derivative of f\n",
    "    x0: initial position\n",
    "    kwargs: dictionary with optional arguments\n",
    "\n",
    "    Output:\n",
    "    x: zero of f (hopefully)\n",
    "    \"\"\"\n",
    "    max_iter = kwargs.get('maxiter', 100)\n",
    "    x = x0\n",
    "    for i in range(max_iter):\n",
    "        x -= f(x)/Df(x) #newton step\n",
    "    return x"
   ]
  },
  {
   "cell_type": "markdown",
   "metadata": {},
   "source": [
    "### b)\n"
   ]
  },
  {
   "cell_type": "markdown",
   "metadata": {},
   "source": [
    "Per nå en trippel for-loop, det kan vi få til bedre."
   ]
  },
  {
   "cell_type": "code",
   "execution_count": 5,
   "metadata": {},
   "outputs": [],
   "source": [
    "def grid_newton(f, Df, n):\n",
    "    \"\"\"\n",
    "    grid_newton runs my_newton over a grid from -1, 1 with n points.\n",
    "    Inputs:\n",
    "    f: function\n",
    "    Df: derivative of f\n",
    "    n: number of points in the grid\n",
    "\n",
    "    Output:\n",
    "    A: n x n matrix with the results of my_newton in grid\n",
    "    \"\"\"\n",
    "\n",
    "    #this is a grid from -1 to 1 with n points\n",
    "    x = np.linspace(-1, 1, n, endpoint=True)\n",
    "    y = np.linspace(-1, 1, n, endpoint=True)\n",
    "\n",
    "    A = np.zeros((n, n)) #creates A matrix\n",
    "\n",
    "    for i in range(n):\n",
    "        for j in range(n):\n",
    "            A[i, j] = my_newton(f, Df, x[i] + 1j*y[j])\n",
    "    return A\n"
   ]
  },
  {
   "cell_type": "markdown",
   "metadata": {},
   "source": [
    "### c)"
   ]
  }
 ],
 "metadata": {
  "kernelspec": {
   "display_name": "base",
   "language": "python",
   "name": "python3"
  },
  "language_info": {
   "codemirror_mode": {
    "name": "ipython",
    "version": 3
   },
   "file_extension": ".py",
   "mimetype": "text/x-python",
   "name": "python",
   "nbconvert_exporter": "python",
   "pygments_lexer": "ipython3",
   "version": "3.11.5"
  }
 },
 "nbformat": 4,
 "nbformat_minor": 2
}
